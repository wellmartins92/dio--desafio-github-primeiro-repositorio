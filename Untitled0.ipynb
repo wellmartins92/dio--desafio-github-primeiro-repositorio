{
  "nbformat": 4,
  "nbformat_minor": 0,
  "metadata": {
    "colab": {
      "provenance": [],
      "authorship_tag": "ABX9TyNLm1yeXXIz+lUdCej+5E4R",
      "include_colab_link": true
    },
    "kernelspec": {
      "name": "python3",
      "display_name": "Python 3"
    },
    "language_info": {
      "name": "python"
    }
  },
  "cells": [
    {
      "cell_type": "markdown",
      "metadata": {
        "id": "view-in-github",
        "colab_type": "text"
      },
      "source": [
        "<a href=\"https://colab.research.google.com/github/wellmartins92/dio--desafio-github-primeiro-repositorio/blob/main/Untitled0.ipynb\" target=\"_parent\"><img src=\"https://colab.research.google.com/assets/colab-badge.svg\" alt=\"Open In Colab\"/></a>"
      ]
    },
    {
      "cell_type": "code",
      "execution_count": 2,
      "metadata": {
        "colab": {
          "base_uri": "https://localhost:8080/"
        },
        "id": "XINgjcyfOwhU",
        "outputId": "7094f651-7a0f-4d1a-b6be-deee4683f06c"
      },
      "outputs": [
        {
          "output_type": "execute_result",
          "data": {
            "text/plain": [
              "43"
            ]
          },
          "metadata": {},
          "execution_count": 2
        }
      ],
      "source": [
        "import requests\n",
        "\n",
        "url = \"https://raw.githubusercontent.com/guilhermeonrails/api-imersao-ia/main/words.json\"\n",
        "resposta = requests.get(url)\n",
        "data = resposta.json()\n",
        "len(data)"
      ]
    },
    {
      "cell_type": "code",
      "source": [
        "data[10]"
      ],
      "metadata": {
        "colab": {
          "base_uri": "https://localhost:8080/"
        },
        "id": "Lsq_iO7ITXJJ",
        "outputId": "51aaf7ff-5fb5-4f77-cabe-cb645458bf52"
      },
      "execution_count": 19,
      "outputs": [
        {
          "output_type": "execute_result",
          "data": {
            "text/plain": [
              "{'palavra': 'ruby',\n",
              " 'dica': 'desenvolver aplicações web e scripts de automação.'}"
            ]
          },
          "metadata": {},
          "execution_count": 19
        }
      ]
    },
    {
      "cell_type": "code",
      "source": [
        "import random\n",
        "\n",
        "valor_secreto = random.choice(data)\n",
        "palavra_secreta = valor_secreto[\"palavra\"]\n",
        "dica = valor_secreto[\"dica\"]\n",
        "#print(f\"A palavra secreta tem {len(palavra_secreta)} letras -> {dica}\")\n",
        "print(dica)\n",
        "chute =input(\"f A palavra secreta tem {len(palavra_secreta)} letras -> {dica}\")\n",
        "if chute == palavra_secreta:\n",
        "  print(\"acertou\")\n",
        "else:\n",
        "  print(f'errou... a palavra secreta era{palavra_secreta}')"
      ],
      "metadata": {
        "colab": {
          "base_uri": "https://localhost:8080/"
        },
        "id": "tEMOP6uYT39N",
        "outputId": "7da33297-681c-4b3f-f98a-15f460747e60"
      },
      "execution_count": 30,
      "outputs": [
        {
          "output_type": "stream",
          "name": "stdout",
          "text": [
            "desenvolver aplicativos móveis e web com uma plataforma de backend escalável.\n",
            "f A palavra secreta tem {len(palavra_secreta)} letras -> {dica}python\n",
            "errou... a palavra secreta erafirebase\n"
          ]
        }
      ]
    },
    {
      "cell_type": "code",
      "source": [],
      "metadata": {
        "id": "M-z9xREfb10l"
      },
      "execution_count": null,
      "outputs": []
    }
  ]
}